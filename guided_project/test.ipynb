{
 "cells": [
  {
   "cell_type": "code",
   "execution_count": 5,
   "metadata": {},
   "outputs": [
    {
     "data": {
      "text/plain": [
       "array([-0.0452072, -0.0369862, -0.0114764])"
      ]
     },
     "execution_count": 5,
     "metadata": {},
     "output_type": "execute_result"
    }
   ],
   "source": [
    "import numpy as np\n",
    "\n",
    "arr1 = [-0.0693952, -0.00124224, -0.0216224]\n",
    "arr2 = [-0.04520729, -0.0369862, -0.0114764]\n",
    "\n",
    "arr3 = [-0.0200952, 0.0257578, -0.0347224]\n",
    "arr4 = [-0.025112, -0.062744, 0.023246]\n",
    "arr5 = [-0.0693952, -0.00124224, -0.0216224]\n",
    "\n",
    "arr1 = np.array(arr1)\n",
    "arr2 = np.array(arr2)\n",
    "arr3 = np.array(arr3)\n",
    "arr4 = np.array(arr4)\n",
    "\n",
    "b2G = arr3+arr4\n",
    "b2G"
   ]
  }
 ],
 "metadata": {
  "kernelspec": {
   "display_name": "Python 3",
   "language": "python",
   "name": "python3"
  },
  "language_info": {
   "codemirror_mode": {
    "name": "ipython",
    "version": 3
   },
   "file_extension": ".py",
   "mimetype": "text/x-python",
   "name": "python",
   "nbconvert_exporter": "python",
   "pygments_lexer": "ipython3",
   "version": "3.8.10"
  }
 },
 "nbformat": 4,
 "nbformat_minor": 2
}
